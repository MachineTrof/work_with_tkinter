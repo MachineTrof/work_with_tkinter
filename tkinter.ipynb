{
 "cells": [
  {
   "cell_type": "code",
   "execution_count": 1,
   "id": "2b85bf0d",
   "metadata": {},
   "outputs": [],
   "source": [
    "from tkinter import *"
   ]
  },
  {
   "cell_type": "markdown",
   "id": "30c7f7bb",
   "metadata": {},
   "source": [
    "Запустите код из примера 1."
   ]
  },
  {
   "cell_type": "code",
   "execution_count": 2,
   "id": "adb2c762",
   "metadata": {},
   "outputs": [],
   "source": [
    "root = Tk()\n",
    "c = Canvas(root, width=300, height=200, bg=\"white\")\n",
    "c.pack()\n",
    "\n",
    "ball = c.create_oval(0, 100, 40, 140, fill='green')\n",
    "\n",
    "def motion():\n",
    "    c.move(ball, 1, 0)\n",
    "    if c.coords(ball)[2] < 300:\n",
    "        root.after(10, motion)\n",
    "\n",
    "motion()\n",
    "\n",
    "root.mainloop()"
   ]
  },
  {
   "cell_type": "markdown",
   "id": "ab6f429d",
   "metadata": {},
   "source": [
    "Напишите программу, которая отображает квадратное окно размером\n",
    "600 на 600, полностью заполненное областью для рисования. По центру области должна отображаться окружность радиусом 200. Вдоль этой окружности по часовой стрелке должна двигаться точка."
   ]
  },
  {
   "cell_type": "code",
   "execution_count": 3,
   "id": "1e2ee4e4",
   "metadata": {},
   "outputs": [
    {
     "name": "stderr",
     "output_type": "stream",
     "text": [
      "invalid command name \"140259008762688motion\"\n",
      "    while executing\n",
      "\"140259008762688motion\"\n",
      "    (\"after\" script)\n"
     ]
    }
   ],
   "source": [
    "from math import (sin, cos, pi) #Импортируем для закона движения Шарика\n",
    "\n",
    "root = Tk()\n",
    "canvas = Canvas(root, width = 600, height = 600) #Холст 600 на 600\n",
    "canvas.pack()\n",
    "\n",
    "circle = canvas.create_oval(100, 100, 500, 500) #Окружность радиусом 200\n",
    "\n",
    "ball = canvas.create_oval(100-10, 300-10, 100+10, 300+10, fill = 'blue')\n",
    "#Шарик, который будет двигаться по окружности\n",
    "\n",
    "def motion(i): #i - начальная позиция шарика на окружности\n",
    "    x = 300 + 200 * cos(pi/180*i)\n",
    "    y = 300 + 200 * sin(pi/180*i)\n",
    "    canvas.coords(ball, x - 10, y - 10, x + 10, y + 10)\n",
    "    root.after(10, motion, i+0.5)\n",
    "motion(180) #Запустили движение Шарика\n",
    "\n",
    "root.mainloop()"
   ]
  },
  {
   "cell_type": "markdown",
   "id": "cf8a5386",
   "metadata": {},
   "source": [
    "Попробуйте изменить скорость и направление движения точки. Сделайте переменную, которая задает скорость и направление движения."
   ]
  },
  {
   "cell_type": "code",
   "execution_count": 4,
   "id": "3399fee2",
   "metadata": {},
   "outputs": [
    {
     "data": {
      "text/plain": [
       "(0.4, 'counterclockwise')"
      ]
     },
     "execution_count": 4,
     "metadata": {},
     "output_type": "execute_result"
    }
   ],
   "source": [
    "from random import (randint, choice)\n",
    "\n",
    "law = (randint(1, 10) / 5, choice(['clockwise', 'counterclockwise']))\n",
    "law #Закон - переменная, задающая скорость и направление движения"
   ]
  },
  {
   "cell_type": "code",
   "execution_count": 6,
   "id": "354067d4",
   "metadata": {},
   "outputs": [],
   "source": [
    "from math import (sin, cos, pi) #Импортируем для закона движения Шарика\n",
    "\n",
    "root = Tk()\n",
    "canvas = Canvas(root, width = 600, height = 600) #Холст 600 на 600\n",
    "canvas.pack()\n",
    "\n",
    "circle = canvas.create_oval(100, 100, 500, 500) #Окружность радиусом 200\n",
    "\n",
    "ball = canvas.create_oval(100-10, 300-10, 100+10, 300+10, fill = 'blue')\n",
    "#Шарик, который будет двигаться по окружности\n",
    "\n",
    "def motion(i, Law): #i - начальная позиция шарика на окружности\n",
    "    x = 300 + 200 * cos(pi/180*i)\n",
    "    if Law[1] == 'clockwise':\n",
    "        y = 300 + 200 * sin(pi/180*i)\n",
    "    else:\n",
    "        y = 300 - 200 * sin(pi/180*i)\n",
    "    canvas.coords(ball, x - 10, y - 10, x + 10, y + 10)\n",
    "    root.after(10, motion, i+Law[0], Law)\n",
    "motion(180, law) #Запустили движение Шарика\n",
    "\n",
    "root.mainloop()"
   ]
  },
  {
   "cell_type": "code",
   "execution_count": null,
   "id": "0a36d49d",
   "metadata": {},
   "outputs": [],
   "source": []
  }
 ],
 "metadata": {
  "kernelspec": {
   "display_name": "Python 3 (ipykernel)",
   "language": "python",
   "name": "python3"
  },
  "language_info": {
   "codemirror_mode": {
    "name": "ipython",
    "version": 3
   },
   "file_extension": ".py",
   "mimetype": "text/x-python",
   "name": "python",
   "nbconvert_exporter": "python",
   "pygments_lexer": "ipython3",
   "version": "3.9.13"
  }
 },
 "nbformat": 4,
 "nbformat_minor": 5
}
