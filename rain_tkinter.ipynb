{
 "cells": [
  {
   "cell_type": "code",
   "execution_count": 1,
   "id": "ba5ed659",
   "metadata": {},
   "outputs": [],
   "source": [
    "from tkinter import *"
   ]
  },
  {
   "cell_type": "markdown",
   "id": "d975a4a5",
   "metadata": {},
   "source": [
    "На экране постоянно генерируются контрастные “капли”, равномерно движущиеся вниз.\n",
    "1. Поэкспериментируйте с плотностью генерации капель.\n",
    "2. Капли должны создавать ощущение трехмерности - дальние движутся медленнее и меньше в размерах."
   ]
  },
  {
   "cell_type": "code",
   "execution_count": null,
   "id": "aeceff20",
   "metadata": {},
   "outputs": [],
   "source": [
    "from random import randint\n",
    "#Импортирую, чтобы задавать капли\n",
    "\n",
    "root = Tk()\n",
    "canvas = Canvas(root, width = 800, height = 600) #Холст 800 на 600\n",
    "canvas.pack()\n",
    "\n",
    "Drops = [] #Список капель\n",
    "\n",
    "#Класс капли. Хранит её координаты (верхняя левая точка), скорость, размеры и объект-связку\n",
    "class drop(object):\n",
    "    def __init__(self, width, height, x, y, speed, objecte):\n",
    "        self.width = width\n",
    "        self.height = height\n",
    "        self.x = x\n",
    "        self.y = y\n",
    "        self.speed = speed\n",
    "        self.objecte = objecte\n",
    "\n",
    "for i in range(1000): #Создаём наши капли (эксперименты эффективны до 1200 капель - дальше фризы)\n",
    "    size = (randint(1,3), randint(8,10))\n",
    "    if size[0] == 1:\n",
    "        speed = randint(5,7)\n",
    "    elif size[0] == 2:\n",
    "        speed = randint(7,9)\n",
    "    else:\n",
    "        speed = randint(9,12)\n",
    "    Drops.append(drop(size[0], size[1], randint(0,800), randint(0,600), speed, \n",
    "                      canvas.create_rectangle(0, 0, 0, 0, fill = 'blue')))\n",
    "        \n",
    "def motion(drops): #Функция движения капель\n",
    "    for dropp in drops:\n",
    "        dropp.y += dropp.speed\n",
    "        if dropp.y > 600:\n",
    "            dropp.y = 0\n",
    "            dropp.x = randint(0,800)\n",
    "        canvas.coords(dropp.objecte, dropp.x, dropp.y, dropp.x + dropp.width, dropp.y + dropp.height)\n",
    "    root.after(10, motion, drops)\n",
    "motion(Drops) #Запустили движение капель\n",
    "\n",
    "root.mainloop()"
   ]
  },
  {
   "cell_type": "code",
   "execution_count": null,
   "id": "49fe00d5",
   "metadata": {},
   "outputs": [],
   "source": []
  }
 ],
 "metadata": {
  "kernelspec": {
   "display_name": "Python 3 (ipykernel)",
   "language": "python",
   "name": "python3"
  },
  "language_info": {
   "codemirror_mode": {
    "name": "ipython",
    "version": 3
   },
   "file_extension": ".py",
   "mimetype": "text/x-python",
   "name": "python",
   "nbconvert_exporter": "python",
   "pygments_lexer": "ipython3",
   "version": "3.9.13"
  }
 },
 "nbformat": 4,
 "nbformat_minor": 5
}
